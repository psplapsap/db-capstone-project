{
    "cells": [
        {
            "cell_type": "code",
            "execution_count": 1,
            "source": [
                "!pip install mysql-connector-python"
            ],
            "outputs": [
                {
                    "output_type": "stream",
                    "name": "stdout",
                    "text": [
                        "Requirement already satisfied: mysql-connector-python in /home/coder/.local/lib/python3.8/site-packages (9.0.0)\n"
                    ]
                }
            ],
            "metadata": {}
        },
        {
            "cell_type": "code",
            "execution_count": 2,
            "source": [
                "#TASK1\n",
                "import mysql.connector as connector\n",
                "connection=connector.connect(user=\"username\",password=\"password\")"
            ],
            "outputs": [],
            "metadata": {}
        },
        {
            "cell_type": "code",
            "execution_count": 3,
            "source": [
                "from mysql.connector.pooling import MySQLConnectionPool"
            ],
            "outputs": [],
            "metadata": {}
        },
        {
            "cell_type": "code",
            "execution_count": 4,
            "source": [
                "from mysql.connector import Error"
            ],
            "outputs": [],
            "metadata": {}
        },
        {
            "cell_type": "code",
            "execution_count": 5,
            "source": [
                "dbconfig = {\n",
                "    \"database\":\"little_lemon_db\",\n",
                "    \"user\" : \"username\",\n",
                "    \"password\" : \"password\"\n",
                "}"
            ],
            "outputs": [],
            "metadata": {}
        },
        {
            "cell_type": "code",
            "execution_count": 6,
            "source": [
                "try:\n",
                "    pool = MySQLConnectionPool(pool_name = \"pool_b\",pool_size = 2,**dbconfig)\n",
                "    print(\"The connection pool is created with the name: \",pool.pool_name)\n",
                "    print(\"The pool size is:\",pool.pool_size)\n",
                "\n",
                "except Error as er:\n",
                "    print(\"Error code:\", er.errno)\n",
                "    print(\"Error message:\", er.msg)"
            ],
            "outputs": [
                {
                    "output_type": "stream",
                    "name": "stdout",
                    "text": [
                        "The connection pool is created with the name:  pool_b\n",
                        "The pool size is: 2\n"
                    ]
                }
            ],
            "metadata": {}
        },
        {
            "cell_type": "code",
            "execution_count": 7,
            "source": [
                "#Task2\n",
                "connection1 = pool.get_connection()\n",
                "cursor1=connection1.cursor()\n",
                "booking1=\"\"\"INSERT INTO Bookings \n",
                "(TableNo, GuestFirstName, GuestLastName, BookingSlot, EmployeeID)\n",
                "VALUES\n",
                "(8,'Anees','Java','18:00:00',6);\"\"\"\n",
                "cursor1.execute(booking1)\n",
                "connection1.commit()\n",
                "print(\"\"\"A new booking is added in the \"Bookings\" table.\"\"\")\n",
                "\n",
                "connection2 = pool.get_connection()\n",
                "cursor2=connection2.cursor()\n",
                "booking2=\"\"\"INSERT INTO Bookings \n",
                "(TableNo, GuestFirstName, GuestLastName, BookingSlot, EmployeeID)\n",
                "VALUES\n",
                "(5, 'Bald','Vin','19:00:00',6);\"\"\"\n",
                "cursor2.execute(booking2)\n",
                "connection2.commit()\n",
                "print(\"\"\"A new booking is added in the \"Bookings\" table.\"\"\")\n",
                "\n",
                "import mysql.connector as connector\n",
                "try:\n",
                "    connection3 = pool.get_connection()\n",
                "    print(\"The guest is connected\")\n",
                "except:\n",
                "    print(\"Adding new connection in the pool.\")\n",
                "        \n",
                "    connection=connector.connect(user=\"username\",password=\"password\")\n",
                "    pool.add_connection(cnx=connection)\n",
                "    print(\"A new connection is added in the pool.\\n\")\n",
                "        \n",
                "    connection3 = pool.get_connection()\n",
                "    print(\"'connection3' is added in the pool.\")\n",
                "    \n",
                "cursor3=connection3.cursor()\n",
                "booking3=\"\"\"INSERT INTO Bookings \n",
                "(TableNo, GuestFirstName, GuestLastName, BookingSlot, EmployeeID)\n",
                "VALUES\n",
                "(12, 'Jay','Kon','19:30:00',6);\"\"\"\n",
                "cursor3.execute(booking3)\n",
                "connection3.commit()\n",
                "print(\"\"\"A new booking is added in the \"Bookings\" table.\"\"\")\n",
                "\n",
                "from mysql.connector import Error\n",
                "for connection in [connection1,connection2, connection3]:\n",
                "    try:\n",
                "        connection.close()\n",
                "        print(\"Connection is returned to the pool\")\n",
                "    except Error as er:\n",
                "        print(\"\\nConnection can't be returned to the pool\")\n",
                "        print(\"Error message:\", er.msg)"
            ],
            "outputs": [
                {
                    "output_type": "stream",
                    "name": "stdout",
                    "text": [
                        "A new booking is added in the \"Bookings\" table.\n",
                        "A new booking is added in the \"Bookings\" table.\n",
                        "Adding new connection in the pool.\n",
                        "A new connection is added in the pool.\n",
                        "\n",
                        "'connection3' is added in the pool.\n",
                        "A new booking is added in the \"Bookings\" table.\n",
                        "Connection is returned to the pool\n",
                        "Connection is returned to the pool\n",
                        "\n",
                        "Connection can't be returned to the pool\n",
                        "Error message: Failed adding connection; queue is full\n"
                    ]
                }
            ],
            "metadata": {}
        },
        {
            "cell_type": "code",
            "execution_count": 8,
            "source": [
                "#TASK3\n",
                "print(\"Getting a connection from the pool.\")\n",
                "connection = pool.get_connection()\n",
                "print(\"\"\"The object \"connection\" is created with a connection link from the pool_a\"\"\")\n",
                "print(\"\"\"Creating a cursor object to communicate with the database.\"\"\")\n",
                "cursor=connection.cursor()\n",
                "print(\"\"\"The cursor object \"cursor\" is created.\"\"\")\n",
                "\n",
                "cursor.execute(\"\"\"\n",
                "SELECT \n",
                "Name, EmployeeID \n",
                "FROM Employees \n",
                "WHERE Role = 'Manager'\n",
                "\"\"\")\n",
                "results=cursor.fetchall()\n",
                "columns=cursor.column_names\n",
                "print(columns)\n",
                "for result in results:\n",
                "    print(result)\n",
                "\n",
                "cursor.execute(\"\"\"SELECT \n",
                "Name, EmployeeID \n",
                "FROM Employees ORDER BY \n",
                "Annual_Salary DESC LIMIT 1\"\"\")\n",
                "results=cursor.fetchall()\n",
                "columns=cursor.column_names\n",
                "print(columns)\n",
                "for result in results:\n",
                "    print(result)\n",
                "\n",
                "cursor.execute(\"\"\"SELECT \n",
                "COUNT(BookingID) n_booking_between_18_20_hrs\n",
                "FROM Bookings \n",
                "WHERE BookingSlot BETWEEN '18:00:00' AND '20:00:00';\"\"\")\n",
                "results=cursor.fetchall()\n",
                "columns=cursor.column_names\n",
                "print(columns)\n",
                "for result in results:\n",
                "    print(result)\n",
                "\n",
                "\n",
                "cursor.execute(\"\"\"\n",
                "SELECT \n",
                "\n",
                "Bookings.BookingID AS ID,  \n",
                "CONCAT(GuestFirstName,' ',GuestLastName) AS GuestName, \n",
                "\n",
                "Role AS Employee\n",
                "\n",
                "FROM Bookings \n",
                "LEFT JOIN \n",
                "Employees \n",
                "ON Employees.EmployeeID=Bookings.EmployeeID\n",
                "WHERE Employees.Role = \"Receptionist\"\n",
                "ORDER BY BookingSlot DESC;\n",
                "\n",
                "\"\"\")\n",
                "print(\"The following guests are waiting to be seated:\")\n",
                "results=cursor.fetchall()\n",
                "columns=cursor.column_names\n",
                "print(columns)\n",
                "for result in results:\n",
                "    print(result)\n"
            ],
            "outputs": [
                {
                    "output_type": "stream",
                    "name": "stdout",
                    "text": [
                        "Getting a connection from the pool.\n",
                        "The object \"connection\" is created with a connection link from the pool_a\n",
                        "Creating a cursor object to communicate with the database.\n",
                        "The cursor object \"cursor\" is created.\n",
                        "('Name', 'EmployeeID')\n",
                        "('Mario Gollini', 1)\n",
                        "('Name', 'EmployeeID')\n",
                        "('Mario Gollini', 1)\n",
                        "('n_booking_between_18_20_hrs',)\n",
                        "(13,)\n",
                        "The following guests are waiting to be seated:\n",
                        "('ID', 'GuestName', 'Employee')\n",
                        "(7, 'Jay Kon', 'Receptionist')\n",
                        "(10, 'Jay Kon', 'Receptionist')\n",
                        "(13, 'Jay Kon', 'Receptionist')\n",
                        "(4, 'Bald Vin', 'Receptionist')\n",
                        "(6, 'Bald Vin', 'Receptionist')\n",
                        "(9, 'Bald Vin', 'Receptionist')\n",
                        "(12, 'Bald Vin', 'Receptionist')\n",
                        "(1, 'Anees Java', 'Receptionist')\n",
                        "(2, 'Anees Java', 'Receptionist')\n",
                        "(3, 'Anees Java', 'Receptionist')\n",
                        "(5, 'Anees Java', 'Receptionist')\n",
                        "(8, 'Anees Java', 'Receptionist')\n",
                        "(11, 'Anees Java', 'Receptionist')\n"
                    ]
                }
            ],
            "metadata": {}
        },
        {
            "cell_type": "code",
            "execution_count": 9,
            "source": [
                "#TASK4\n",
                "cursor.execute(\"DROP PROCEDURE IF EXISTS BasicSalesReport;\")\n",
                "\n",
                "stored_procedure_query=\"\"\"\n",
                "CREATE PROCEDURE BasicSalesReport()\n",
                "\n",
                "BEGIN\n",
                "SELECT \n",
                "SUM(BillAmount) AS Total_Sale,\n",
                "AVG(BillAmount) AS Average_Sale,\n",
                "MIN(BillAmount) AS Min_Bill_Paid,\n",
                "MAX(BillAmount) AS Max_Bill_Paid\n",
                "FROM Orders;\n",
                "END\n",
                "\"\"\"\n",
                "\n",
                "cursor.execute(stored_procedure_query)\n",
                "cursor.callproc(\"BasicSalesReport\")\n",
                "\n",
                "\n",
                "results = next(cursor.stored_results())\n",
                "results = results.fetchall()\n",
                "\n",
                "for column_id in cursor.stored_results():\n",
                "    cols = [column[0] for column in column_id.description]\n",
                "\n",
                "    \n",
                "print(\"Today's sales report:\")\n",
                "for result in results:\n",
                "    print(\"\\t\", cols[0], \":\", result[0])\n",
                "    print(\"\\t\", cols[1], \":\", result[1])\n",
                "    print(\"\\t\", cols[2], \":\", result[2])\n",
                "    print(\"\\t\", cols[3], \":\", result[3])\n"
            ],
            "outputs": [
                {
                    "output_type": "stream",
                    "name": "stdout",
                    "text": [
                        "Today's sales report:\n",
                        "\t Total_Sale : 243\n",
                        "\t Average_Sale : 48.6000\n",
                        "\t Min_Bill_Paid : 37\n",
                        "\t Max_Bill_Paid : 86\n"
                    ]
                }
            ],
            "metadata": {}
        },
        {
            "cell_type": "code",
            "execution_count": 10,
            "source": [
                "#TASK5\n",
                "connection = pool.get_connection()\n",
                "cursor=connection.cursor(buffered=True)\n",
                "\n",
                "sql_query=\"\"\"SELECT \n",
                "Bookings.BookingSlot,\n",
                "CONCAT(Bookings.GuestFirstName,\" \",Bookings.GuestLastName) AS Guest_Name,\n",
                "Employees.Name AS Emp_Name,\n",
                "Employees.Role AS Emp_Role\n",
                "FROM Bookings \n",
                "INNER JOIN \n",
                "Employees ON Bookings.EmployeeID=Employees.EmployeeID\n",
                "ORDER BY Bookings.BookingSlot ASC;\"\"\"\n",
                "cursor.execute(sql_query)\n",
                "results=cursor.fetchmany(size=3)\n",
                "#print(cursor.column_names)\n",
                "for result in results:\n",
                "    print(\"\\nBookingSlot\",result[0])\n",
                "    print(\"\\tGuest_name:\",result[1])\n",
                "    print(\"\\tAssigned to:\",result[2],\"[{}]\".format(result[3]))\n",
                "    \n",
                "connection.close()"
            ],
            "outputs": [
                {
                    "output_type": "stream",
                    "name": "stdout",
                    "text": [
                        "\n",
                        "BookingSlot 18:00:00\n",
                        "\tGuest_name: Anees Java\n",
                        "\tAssigned to: John Millar [Receptionist]\n",
                        "\n",
                        "BookingSlot 18:00:00\n",
                        "\tGuest_name: Anees Java\n",
                        "\tAssigned to: John Millar [Receptionist]\n",
                        "\n",
                        "BookingSlot 18:00:00\n",
                        "\tGuest_name: Anees Java\n",
                        "\tAssigned to: John Millar [Receptionist]\n"
                    ]
                }
            ],
            "metadata": {}
        }
    ],
    "metadata": {
        "orig_nbformat": 4,
        "language_info": {
            "name": "python",
            "version": "3.8.10",
            "mimetype": "text/x-python",
            "codemirror_mode": {
                "name": "ipython",
                "version": 3
            },
            "pygments_lexer": "ipython3",
            "nbconvert_exporter": "python",
            "file_extension": ".py"
        },
        "kernelspec": {
            "name": "python3",
            "display_name": "Python 3.8.10 64-bit"
        },
        "interpreter": {
            "hash": "916dbcbb3f70747c44a77c7bcd40155683ae19c65e1c03b4aa3499c5328201f1"
        }
    },
    "nbformat": 4,
    "nbformat_minor": 2
}